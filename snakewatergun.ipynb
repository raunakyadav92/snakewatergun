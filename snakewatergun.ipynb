{
  "nbformat": 4,
  "nbformat_minor": 0,
  "metadata": {
    "colab": {
      "provenance": [],
      "authorship_tag": "ABX9TyOTdNQzBzFwW83dZ/VNUomI",
      "include_colab_link": true
    },
    "kernelspec": {
      "name": "python3",
      "display_name": "Python 3"
    },
    "language_info": {
      "name": "python"
    }
  },
  "cells": [
    {
      "cell_type": "markdown",
      "metadata": {
        "id": "view-in-github",
        "colab_type": "text"
      },
      "source": [
        "<a href=\"https://colab.research.google.com/github/raunakyadav92/snakewatergun/blob/main/snakewatergun.ipynb\" target=\"_parent\"><img src=\"https://colab.research.google.com/assets/colab-badge.svg\" alt=\"Open In Colab\"/></a>"
      ]
    },
    {
      "cell_type": "code",
      "execution_count": null,
      "metadata": {
        "id": "lFWtj0ylOBIx"
      },
      "outputs": [],
      "source": [
        "import random\n",
        "\n",
        "choices = ['snake', 'water', 'gun']\n",
        "score = 0\n",
        "\n",
        "print(\"\\n🐍💧🔫 Welcome to Snake-Water-Gun Game! 🐍💧🔫\\n\")\n",
        "print(\"Rules:\")\n",
        "print(\"- Snake drinks Water 🐍 > 💧\")\n",
        "print(\"- Water drowns Gun 💧 > 🔫\")\n",
        "print(\"- Gun kills Snake 🔫 > 🐍\\n\")\n",
        "\n",
        "for i in range(5):\n",
        "    user = input(\"Enter your choice (snake/water/gun): \").lower()\n",
        "    if user not in choices:\n",
        "        print(\"❌ Invalid choice! You lose this round.\\n\")\n",
        "        continue\n",
        "    comp = random.choice(choices)\n",
        "    print(f\"Computer chose: {comp}\")\n",
        "\n",
        "    if user == comp:\n",
        "        print(\"⚖️ It's a Tie!\\n\")\n",
        "    elif (user == 'snake' and comp == 'water') or \\\n",
        "         (user == 'water' and comp == 'gun') or \\\n",
        "         (user == 'gun' and comp == 'snake'):\n",
        "        print(\"✅ You Win this round!\\n\")\n",
        "        score += 1\n",
        "    else:\n",
        "        print(\"❌ You Lose this round!\\n\")\n",
        "\n",
        "print(f\"🎯 Your Total Score: {score}/5\")\n"
      ]
    }
  ]
}